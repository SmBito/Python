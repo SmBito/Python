{
 "cells": [
  {
   "cell_type": "markdown",
   "metadata": {},
   "source": [
    "open and write CSV Files in Python"
   ]
  },
  {
   "cell_type": "markdown",
   "metadata": {},
   "source": [
    "### Without Using CSV Module"
   ]
  },
  {
   "cell_type": "code",
   "execution_count": 30,
   "metadata": {},
   "outputs": [
    {
     "name": "stdout",
     "output_type": "stream",
     "text": [
      "Date,Open,High,Low,Close,Volume,Adj Close\n",
      "\n",
      "8/19/2014,585.002622,587.342658,584.002627,586.862643,978600,586.862643\n",
      "\n",
      "8/18/2014,576.11258,584.512631,576.002598,582.162619,1284100,582.162619\n",
      "\n",
      "8/15/2014,577.862619,579.382595,570.522603,573.482626,1519100,573.482626\n",
      "\n",
      "8/14/2014,576.182596,577.902645,570.882599,574.652582,985400,574.652582\n",
      "\n",
      "8/13/2014,567.312567,575.002602,565.752564,574.782577,1439200,574.782577\n",
      "\n",
      "8/12/2014,564.522567,565.902572,560.882518,562.732562,1542000,562.732562\n",
      "\n",
      "8/11/2014,569.992585,570.492553,566.002578,567.882551,1214700,567.882551\n",
      "\n",
      "8/8/2014,563.562536,570.252576,560.352561,568.772565,1494700,568.772565\n",
      "\n",
      "8/7/2014,568.00257,569.89258,561.102543,563.362525,1110900,563.362525\n",
      "\n",
      "8/6/2014,561.782569,570.702601,560.002541,566.376589,1334300,566.376589\n",
      "\n",
      "8/5/2014,570.052564,571.982601,562.612543,565.072537,1551200,565.072537\n",
      "\n",
      "8/4/2014,569.042592,575.352622,564.102531,573.152619,1427300,573.152619\n",
      "\n",
      "8/1/2014,570.402584,575.962633,562.85252,566.072533,1955200,566.072533\n",
      "\n",
      "7/31/2014,580.602616,583.652668,570.002561,571.602592,2102700,571.602592\n",
      "\n",
      "7/30/2014,586.55265,589.502696,584.002627,587.42265,1016400,587.42265\n",
      "\n",
      "7/29/2014,588.752653,589.702646,583.517654,585.612633,1349800,585.612633\n",
      "\n"
     ]
    },
    {
     "name": "stdout",
     "output_type": "stream",
     "text": [
      "8/19/2004,100.000168,104.060182,95.960165,100.340176,44871300,50.119968\n"
     ]
    }
   ],
   "source": [
    "file = open('google_stock_data.csv')\n",
    "for line in file:\n",
    "    print(line)"
   ]
  },
  {
   "cell_type": "code",
   "execution_count": 31,
   "metadata": {},
   "outputs": [],
   "source": [
    "lines = [line for line in open('google_stock_data.csv')]"
   ]
  },
  {
   "cell_type": "code",
   "execution_count": 32,
   "metadata": {},
   "outputs": [
    {
     "data": {
      "text/plain": [
       "'Date,Open,High,Low,Close,Volume,Adj Close\\n'"
      ]
     },
     "execution_count": 32,
     "metadata": {},
     "output_type": "execute_result"
    }
   ],
   "source": [
    "lines[0]"
   ]
  },
  {
   "cell_type": "code",
   "execution_count": 33,
   "metadata": {},
   "outputs": [
    {
     "data": {
      "text/plain": [
       "'8/19/2014,585.002622,587.342658,584.002627,586.862643,978600,586.862643\\n'"
      ]
     },
     "execution_count": 33,
     "metadata": {},
     "output_type": "execute_result"
    }
   ],
   "source": [
    "lines[1]"
   ]
  },
  {
   "cell_type": "code",
   "execution_count": 34,
   "metadata": {},
   "outputs": [
    {
     "data": {
      "text/plain": [
       "'Date,Open,High,Low,Close,Volume,Adj Close'"
      ]
     },
     "execution_count": 34,
     "metadata": {},
     "output_type": "execute_result"
    }
   ],
   "source": [
    "lines[0].strip()"
   ]
  },
  {
   "cell_type": "code",
   "execution_count": 35,
   "metadata": {},
   "outputs": [
    {
     "data": {
      "text/plain": [
       "['Date', 'Open', 'High', 'Low', 'Close', 'Volume', 'Adj Close']"
      ]
     },
     "execution_count": 35,
     "metadata": {},
     "output_type": "execute_result"
    }
   ],
   "source": [
    "lines[0].strip().split(',')"
   ]
  },
  {
   "cell_type": "code",
   "execution_count": 36,
   "metadata": {},
   "outputs": [],
   "source": [
    "dataset = [line.strip().strip(',') for line in open ('google_stock_data.csv') ] "
   ]
  },
  {
   "cell_type": "code",
   "execution_count": 37,
   "metadata": {},
   "outputs": [
    {
     "data": {
      "text/plain": [
       "'Date,Open,High,Low,Close,Volume,Adj Close'"
      ]
     },
     "execution_count": 37,
     "metadata": {},
     "output_type": "execute_result"
    }
   ],
   "source": [
    "dataset[0]"
   ]
  },
  {
   "cell_type": "code",
   "execution_count": 38,
   "metadata": {},
   "outputs": [
    {
     "data": {
      "text/plain": [
       "'8/19/2014,585.002622,587.342658,584.002627,586.862643,978600,586.862643'"
      ]
     },
     "execution_count": 38,
     "metadata": {},
     "output_type": "execute_result"
    }
   ],
   "source": [
    "dataset[1]"
   ]
  },
  {
   "cell_type": "markdown",
   "metadata": {},
   "source": [
    "### Using CSV Module"
   ]
  },
  {
   "cell_type": "code",
   "execution_count": 39,
   "metadata": {},
   "outputs": [
    {
     "name": "stdout",
     "output_type": "stream",
     "text": [
      "['Dialect', 'DictReader', 'DictWriter', 'Error', 'OrderedDict', 'QUOTE_ALL', 'QUOTE_MINIMAL', 'QUOTE_NONE', 'QUOTE_NONNUMERIC', 'Sniffer', 'StringIO', '_Dialect', '__all__', '__builtins__', '__cached__', '__doc__', '__file__', '__loader__', '__name__', '__package__', '__spec__', '__version__', 'excel', 'excel_tab', 'field_size_limit', 'get_dialect', 'list_dialects', 're', 'reader', 'register_dialect', 'unix_dialect', 'unregister_dialect', 'writer']\n"
     ]
    }
   ],
   "source": [
    "import csv\n",
    "print(dir(csv))"
   ]
  },
  {
   "cell_type": "code",
   "execution_count": 40,
   "metadata": {},
   "outputs": [
    {
     "name": "stdout",
     "output_type": "stream",
     "text": [
      "['Date', 'Open', 'High', 'Low', 'Close', 'Volume', 'Adj Close']\n",
      "['8/19/2014', '585.002622', '587.342658', '584.002627', '586.862643', '978600', '586.862643']\n"
     ]
    }
   ],
   "source": [
    "import csv\n",
    "\n",
    "file = open('google_stock_data.csv', newline='')\n",
    "reader = csv.reader(file)\n",
    "\n",
    "header = next(reader) # the first line is the header\n",
    "data = [row for row in reader] # Read the remainin data\n",
    "\n",
    "print(header)\n",
    "print(data[0])\n",
    "\n"
   ]
  },
  {
   "cell_type": "markdown",
   "metadata": {},
   "source": [
    "### we have a probelm..!! the data are still treated as str."
   ]
  },
  {
   "cell_type": "code",
   "execution_count": 64,
   "metadata": {},
   "outputs": [],
   "source": [
    "import csv\n",
    "from datetime import datetime\n",
    "\n",
    "file = open('google_stock_data.csv', newline='')\n",
    "reader = csv.reader(file)\n",
    "\n",
    "header = next(reader) # the first line is the header\n",
    "\n",
    "data = []\n",
    "for row in reader:\n",
    "    # row = [Date,Open,High,Low,Close,Volume,Adj]\n",
    "    date = datetime.strptime(row[0], '%m/%d/%Y')  # string parse time\n",
    "    open_price = float(row[1]) # 'open' is builtin function\n",
    "    high = float(row[2])\n",
    "    low = float(row[3])\n",
    "    close = float(row[4])\n",
    "    volume = int(row[5])\n",
    "    adj_close = float(row[6])\n",
    "    \n",
    "    data.append([date, open_price, high, low, close, volume, adj_close])"
   ]
  },
  {
   "cell_type": "code",
   "execution_count": 65,
   "metadata": {},
   "outputs": [
    {
     "name": "stdout",
     "output_type": "stream",
     "text": [
      "[datetime.datetime(2014, 8, 19, 0, 0), 585.002622, 587.342658, 584.002627, 586.862643, 978600, 586.862643]\n"
     ]
    }
   ],
   "source": [
    "print(data[0]) # now there is no strings, but datas, floats, integers "
   ]
  },
  {
   "cell_type": "markdown",
   "metadata": {},
   "source": [
    "### Compute and store daily stock returns"
   ]
  },
  {
   "cell_type": "code",
   "execution_count": 66,
   "metadata": {},
   "outputs": [],
   "source": [
    "file = open\n",
    "writer = csv.writer(open('google_returns.csv', 'w'))\n",
    "writer.writerow([\"Date\", \"Return\"])\n",
    "\n",
    "for i in range(len(data) - 1):\n",
    "    todays_row = data[i]\n",
    "    todays_date = todays_row[0]\n",
    "    todays_price = todays_row[-1]\n",
    "    yesterday_row = data[i+1]\n",
    "    yesterday_price = yesterday_row[-1]\n",
    "    \n",
    "    daily_return = (todays_price - yesterday_price) / yesterday_price\n",
    "    #writer.writerow([todays_date, daily_return])\n",
    "    \n",
    "    formatted_date = todays_date.strftime('%m/%d/%Y') # strftime: string format time\n",
    "    writer.writerow([formatted_date, daily_return])    "
   ]
  }
 ],
 "metadata": {
  "kernelspec": {
   "display_name": "Python 3",
   "language": "python",
   "name": "python3"
  },
  "language_info": {
   "codemirror_mode": {
    "name": "ipython",
    "version": 3
   },
   "file_extension": ".py",
   "mimetype": "text/x-python",
   "name": "python",
   "nbconvert_exporter": "python",
   "pygments_lexer": "ipython3",
   "version": "3.6.6"
  }
 },
 "nbformat": 4,
 "nbformat_minor": 2
}
