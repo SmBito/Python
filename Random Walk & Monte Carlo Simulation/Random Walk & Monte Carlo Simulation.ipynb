{
 "cells": [
  {
   "cell_type": "markdown",
   "metadata": {},
   "source": [
    "A Random Walk & Monte Carlo Simulation"
   ]
  },
  {
   "cell_type": "markdown",
   "metadata": {},
   "source": [
    "### Random walk function"
   ]
  },
  {
   "cell_type": "code",
   "execution_count": 1,
   "metadata": {},
   "outputs": [
    {
     "name": "stdout",
     "output_type": "stream",
     "text": [
      "(3, -1) Distance from home = 4\n",
      "(3, -1) Distance from home = 4\n",
      "(-1, -3) Distance from home = 4\n",
      "(-1, -1) Distance from home = 2\n",
      "(-1, 1) Distance from home = 2\n",
      "(3, -1) Distance from home = 4\n",
      "(3, 1) Distance from home = 4\n",
      "(1, 1) Distance from home = 2\n",
      "(0, 0) Distance from home = 0\n",
      "(3, -1) Distance from home = 4\n",
      "(1, 1) Distance from home = 2\n",
      "(-1, 3) Distance from home = 4\n",
      "(0, 2) Distance from home = 2\n",
      "(1, 1) Distance from home = 2\n",
      "(-4, 0) Distance from home = 4\n",
      "(-3, -1) Distance from home = 4\n",
      "(3, 1) Distance from home = 4\n",
      "(0, 2) Distance from home = 2\n",
      "(-1, -1) Distance from home = 2\n",
      "(0, 0) Distance from home = 0\n",
      "(-4, 0) Distance from home = 4\n",
      "(2, 0) Distance from home = 2\n",
      "(-1, -1) Distance from home = 2\n",
      "(1, 1) Distance from home = 2\n",
      "(0, 0) Distance from home = 0\n"
     ]
    }
   ],
   "source": [
    "import random\n",
    "\n",
    "def random_walk(n):\n",
    "    \"\"\"Return corrdinartes after 'n' block rando, walk\"\"\"\n",
    "    x, y = 0, 0\n",
    "    for i in range(n):\n",
    "        step = random.choice(['North', 'South', 'Easte', 'West'])\n",
    "        if   step == 'North':\n",
    "            y +=1\n",
    "        elif step == 'South':\n",
    "            y-=1\n",
    "        elif step == 'Easte':\n",
    "            x+=1\n",
    "        else: \n",
    "            x-=1\n",
    "    return (x, y)\n",
    "\n",
    " \n",
    "for i in range(25):\n",
    "    walk = random_walk(10)\n",
    "    print(walk, \"Distance from home =\",\n",
    "         abs(walk[0])+ abs(walk[1]))"
   ]
  },
  {
   "cell_type": "markdown",
   "metadata": {},
   "source": [
    "### Rewrite the code in a compact way"
   ]
  },
  {
   "cell_type": "code",
   "execution_count": 2,
   "metadata": {},
   "outputs": [
    {
     "name": "stdout",
     "output_type": "stream",
     "text": [
      "(5, -1) Distance from home = 6\n",
      "(1, -1) Distance from home = 2\n",
      "(2, 0) Distance from home = 2\n",
      "(0, -2) Distance from home = 2\n",
      "(-1, 1) Distance from home = 2\n",
      "(3, 1) Distance from home = 4\n",
      "(0, 2) Distance from home = 2\n",
      "(4, 4) Distance from home = 8\n",
      "(2, -2) Distance from home = 4\n",
      "(-3, -3) Distance from home = 6\n",
      "(1, 1) Distance from home = 2\n",
      "(-1, 1) Distance from home = 2\n",
      "(0, -2) Distance from home = 2\n",
      "(1, 1) Distance from home = 2\n",
      "(2, 4) Distance from home = 6\n",
      "(4, 2) Distance from home = 6\n",
      "(-2, 2) Distance from home = 4\n",
      "(-2, 0) Distance from home = 2\n",
      "(1, -1) Distance from home = 2\n",
      "(-1, -1) Distance from home = 2\n",
      "(2, 0) Distance from home = 2\n",
      "(2, -2) Distance from home = 4\n",
      "(-1, 1) Distance from home = 2\n",
      "(0, -6) Distance from home = 6\n",
      "(0, -2) Distance from home = 2\n"
     ]
    }
   ],
   "source": [
    "import random\n",
    "\n",
    "def random_wolk_2(n):\n",
    "    \"\"\"Return corrdinartes after 'n' block rando, walk\"\"\"\n",
    "    x, y = 0, 0\n",
    "    for i in range(n):\n",
    "        (dx,dy) = random.choice([(0,1),(0,-1),(1,0),(-1,0)])\n",
    "        x += dx\n",
    "        y += dy\n",
    "    return (x, y)\n",
    "\n",
    "for i in range(25):\n",
    "    walk = random_wolk_2(10)\n",
    "    print(walk, \"Distance from home =\",\n",
    "         abs(walk[0])+ abs(walk[1]))"
   ]
  },
  {
   "cell_type": "markdown",
   "metadata": {},
   "source": [
    "### What is the longest random walk you can take so that on average you will end up 4 blocks or fewer from home?"
   ]
  },
  {
   "cell_type": "code",
   "execution_count": 3,
   "metadata": {},
   "outputs": [
    {
     "name": "stdout",
     "output_type": "stream",
     "text": [
      "walk size =  1  /  percentage of no transport =  100.0\n",
      "walk size =  2  /  percentage of no transport =  100.0\n",
      "walk size =  3  /  percentage of no transport =  100.0\n",
      "walk size =  4  /  percentage of no transport =  100.0\n",
      "walk size =  5  /  percentage of no transport =  87.96000000000001\n",
      "walk size =  6  /  percentage of no transport =  93.81\n",
      "walk size =  7  /  percentage of no transport =  76.22\n",
      "walk size =  8  /  percentage of no transport =  86.33999999999999\n",
      "walk size =  9  /  percentage of no transport =  67.91\n",
      "walk size =  10  /  percentage of no transport =  79.45\n",
      "walk size =  11  /  percentage of no transport =  59.760000000000005\n",
      "walk size =  12  /  percentage of no transport =  72.26\n",
      "walk size =  13  /  percentage of no transport =  54.2\n",
      "walk size =  14  /  percentage of no transport =  66.86999999999999\n",
      "walk size =  15  /  percentage of no transport =  48.43\n",
      "walk size =  16  /  percentage of no transport =  62.06\n",
      "walk size =  17  /  percentage of no transport =  44.25\n",
      "walk size =  18  /  percentage of no transport =  58.209999999999994\n",
      "walk size =  19  /  percentage of no transport =  41.620000000000005\n",
      "walk size =  20  /  percentage of no transport =  54.26\n",
      "walk size =  21  /  percentage of no transport =  37.71\n",
      "walk size =  22  /  percentage of no transport =  51.25999999999999\n",
      "walk size =  23  /  percentage of no transport =  35.38\n",
      "walk size =  24  /  percentage of no transport =  47.44\n",
      "walk size =  25  /  percentage of no transport =  32.5\n",
      "walk size =  26  /  percentage of no transport =  45.540000000000006\n",
      "walk size =  27  /  percentage of no transport =  31.86\n",
      "walk size =  28  /  percentage of no transport =  42.84\n",
      "walk size =  29  /  percentage of no transport =  28.849999999999998\n",
      "walk size =  30  /  percentage of no transport =  40.98\n"
     ]
    }
   ],
   "source": [
    "import random\n",
    "\n",
    "def random_wolk_2(n):\n",
    "    \"\"\"Return corrdinartes after 'n' block rando, walk\"\"\"\n",
    "    x, y = 0, 0 \n",
    "    for i in range(n):\n",
    "        (dx,dy) = random.choice([(0,1),(0,-1),(1,0),(-1,0)])\n",
    "        x += dx\n",
    "        y += dy\n",
    "    return (x, y)\n",
    "\n",
    "# --- New code:\n",
    "\n",
    "number_of_walks = 10000   # 10000 randoms walk for each walk size \n",
    "\n",
    "# -- Esstimating the probability you walk home for a walk of lengh of 1 to 30 blocks\n",
    "for walk_lengh in range(1, 31):\n",
    "    no_transport = 0      # Number of walks 4 or fewer block from home\n",
    "    for i in range(number_of_walks):   # Monte Carlo loop for 10000 samples\n",
    "        (x, y) = random_wolk_2(walk_lengh)\n",
    "        distance = abs(x) + abs(y)\n",
    "        if distance <= 4:\n",
    "            no_transport += 1\n",
    "    no_transport_percentage = float(no_transport) / number_of_walks\n",
    "    print('walk size = ',walk_lengh,\n",
    "         ' /  percentage of no transport = ', 100*no_transport_percentage)"
   ]
  },
  {
   "cell_type": "markdown",
   "metadata": {},
   "source": [
    "### The answer is :  20\n",
    "walk size =  20  / % of no transport =  53.800000000000004"
   ]
  }
 ],
 "metadata": {
  "kernelspec": {
   "display_name": "Python 3",
   "language": "python",
   "name": "python3"
  },
  "language_info": {
   "codemirror_mode": {
    "name": "ipython",
    "version": 3
   },
   "file_extension": ".py",
   "mimetype": "text/x-python",
   "name": "python",
   "nbconvert_exporter": "python",
   "pygments_lexer": "ipython3",
   "version": "3.6.6"
  }
 },
 "nbformat": 4,
 "nbformat_minor": 2
}
