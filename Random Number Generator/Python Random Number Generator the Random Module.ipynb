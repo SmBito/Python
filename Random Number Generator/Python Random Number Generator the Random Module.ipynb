{
 "cells": [
  {
   "cell_type": "markdown",
   "metadata": {},
   "source": [
    "Python Random Number Generator  the Random Module"
   ]
  },
  {
   "cell_type": "markdown",
   "metadata": {},
   "source": [
    "### normalvariate( mu,  sigma )"
   ]
  },
  {
   "cell_type": "code",
   "execution_count": 9,
   "metadata": {},
   "outputs": [
    {
     "name": "stdout",
     "output_type": "stream",
     "text": [
      "-0.45124458155932223\n",
      "-2.5607375895098703\n",
      "0.02792059363098706\n",
      "1.8507186352352853\n",
      "-0.339747097341314\n",
      "0.41748908150012376\n",
      "1.035101288466313\n",
      "-1.4778573789289993\n",
      "-2.202376549662871\n",
      "1.718168245826631\n",
      "-0.4007088855168648\n",
      "-2.4445410666154066\n",
      "-3.8441058688242604\n",
      "1.4959503975727686\n",
      "-0.3575311831437261\n",
      "2.079284979814041\n",
      "5.590646312304146\n",
      "-5.758568756227935\n",
      "-9.133562455675303\n",
      "-2.3970804849991234\n"
     ]
    }
   ],
   "source": [
    "import random\n",
    "\n",
    "for i in range(20):\n",
    "    print(random.normalvariate(0,3))"
   ]
  },
  {
   "cell_type": "code",
   "execution_count": 78,
   "metadata": {},
   "outputs": [
    {
     "data": {
      "text/plain": [
       "[<matplotlib.lines.Line2D at 0x1166a6fd0>]"
      ]
     },
     "execution_count": 78,
     "metadata": {},
     "output_type": "execute_result"
    },
    {
     "data": {
      "image/png": "[encoded data removed]",
      "text/plain": [
       "<matplotlib.figure.Figure at 0x11a2e2780>"
      ]
     },
     "metadata": {
      "needs_background": "light"
     },
     "output_type": "display_data"
    }
   ],
   "source": [
    "import random\n",
    "import numpy\n",
    "import matplotlib.pyplot as plt\n",
    "\n",
    "x = numpy.arange(100)\n",
    "y = numpy.zeros(100)\n",
    "for i in range(100):\n",
    "    y[i] += random.normalvariate(0,0.2)\n",
    "plt.plot(x,y,'o')"
   ]
  },
  {
   "cell_type": "markdown",
   "metadata": {},
   "source": [
    "### Discrete Probabilty Disribution"
   ]
  },
  {
   "cell_type": "markdown",
   "metadata": {},
   "source": [
    "#### simulating a rolling of a dice"
   ]
  },
  {
   "cell_type": "code",
   "execution_count": 48,
   "metadata": {},
   "outputs": [
    {
     "name": "stdout",
     "output_type": "stream",
     "text": [
      "4\n",
      "6\n",
      "4\n",
      "4\n",
      "1\n",
      "6\n",
      "2\n",
      "3\n",
      "4\n",
      "6\n",
      "6\n",
      "2\n",
      "4\n",
      "2\n",
      "5\n",
      "5\n",
      "2\n",
      "2\n",
      "3\n",
      "1\n"
     ]
    }
   ],
   "source": [
    "import random\n",
    "for i in range(20):\n",
    "    print(random.randint(1,6))"
   ]
  },
  {
   "cell_type": "markdown",
   "metadata": {},
   "source": [
    "### Random element from a list"
   ]
  },
  {
   "cell_type": "markdown",
   "metadata": {},
   "source": [
    "#### rock, paper, scissors"
   ]
  },
  {
   "cell_type": "code",
   "execution_count": 73,
   "metadata": {},
   "outputs": [
    {
     "name": "stdout",
     "output_type": "stream",
     "text": [
      "paper\n",
      "scissors\n",
      "scissors\n",
      "paper\n",
      "paper\n",
      "rock\n",
      "scissors\n",
      "paper\n",
      "rock\n",
      "scissors\n",
      "paper\n",
      "rock\n",
      "scissors\n",
      "rock\n",
      "paper\n",
      "paper\n",
      "rock\n",
      "rock\n",
      "paper\n",
      "rock\n"
     ]
    }
   ],
   "source": [
    "import random\n",
    "outcomes = ['rock', 'paper', 'scissors']\n",
    "\n",
    "for i in range(20):\n",
    "    print(random.choice(outcomes))"
   ]
  }
 ],
 "metadata": {
  "kernelspec": {
   "display_name": "Python 3",
   "language": "python",
   "name": "python3"
  },
  "language_info": {
   "codemirror_mode": {
    "name": "ipython",
    "version": 3
   },
   "file_extension": ".py",
   "mimetype": "text/x-python",
   "name": "python",
   "nbconvert_exporter": "python",
   "pygments_lexer": "ipython3",
   "version": "3.6.6"
  }
 },
 "nbformat": 4,
 "nbformat_minor": 2
}
